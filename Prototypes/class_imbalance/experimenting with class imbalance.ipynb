{
 "cells": [
  {
   "cell_type": "markdown",
   "id": "recovered-childhood",
   "metadata": {},
   "source": [
    "10/90 = 74.56\n",
    "50/50 = 21.3\n",
    "30/70 = 33.554\n"
   ]
  },
  {
   "cell_type": "code",
   "execution_count": 2,
   "id": "known-hudson",
   "metadata": {},
   "outputs": [],
   "source": [
    "import seaborn as sns\n",
    "import pandas as pd\n",
    "import numpy as np\n",
    "from matplotlib import pyplot as plt\n",
    "from matplotlib.pyplot import figure\n",
    "from sklearn.svm import SVC, LinearSVC\n",
    "from sklearn.model_selection import train_test_split\n",
    "import os\n",
    "from sklearn.ensemble import RandomForestClassifier\n",
    "from sklearn import metrics"
   ]
  },
  {
   "cell_type": "markdown",
   "id": "presidential-enough",
   "metadata": {},
   "source": [
    "# Import data"
   ]
  },
  {
   "cell_type": "code",
   "execution_count": 3,
   "id": "consolidated-milan",
   "metadata": {
    "tags": []
   },
   "outputs": [],
   "source": [
    "def read_file(url):\n",
    "\n",
    "    url = url + \"?raw=true\"\n",
    "    df = pd.read_csv(url, encoding='cp1252', sep=',', low_memory=False)\n",
    "    return df"
   ]
  },
  {
   "cell_type": "code",
   "execution_count": 5,
   "id": "adult-parking",
   "metadata": {},
   "outputs": [],
   "source": [
    "url = \"https://github.com/hannahgathu/Thesis-Data-Visualisations/blob/main/Data/benchmark_data/dielectron.csv\"\n",
    "\n",
    "df= read_file(url)"
   ]
  },
  {
   "cell_type": "code",
   "execution_count": 15,
   "id": "aggressive-reunion",
   "metadata": {},
   "outputs": [
    {
     "data": {
      "text/plain": [
       "19"
      ]
     },
     "execution_count": 15,
     "metadata": {},
     "output_type": "execute_result"
    }
   ],
   "source": [
    "df[df['M']>74.56][M]"
   ]
  },
  {
   "cell_type": "code",
   "execution_count": 16,
   "id": "peaceful-cigarette",
   "metadata": {},
   "outputs": [],
   "source": [
    "def to_classification_problem(df, split_value):\n",
    "    column_name=\"M>{}\".format(split_value)\n",
    "    df[column_name]=df['M']>split_value\n",
    "    return df"
   ]
  },
  {
   "cell_type": "code",
   "execution_count": 17,
   "id": "bizarre-advocate",
   "metadata": {},
   "outputs": [],
   "source": [
    "df_split=to_classification_problem(df, 74.56)"
   ]
  },
  {
   "cell_type": "code",
   "execution_count": 9,
   "id": "supposed-memorial",
   "metadata": {
    "tags": []
   },
   "outputs": [
    {
     "data": {
      "text/plain": [
       "0         (6.074, 10.565]\n",
       "1        (14.116, 17.387]\n",
       "2        (33.554, 46.522]\n",
       "3          (1.999, 6.074]\n",
       "4          (1.999, 6.074]\n",
       "               ...       \n",
       "99995     (6.074, 10.565]\n",
       "99996    (17.387, 21.283]\n",
       "99997    (10.565, 14.116]\n",
       "99998      (1.999, 6.074]\n",
       "99999    (33.554, 46.522]\n",
       "Name: M, Length: 100000, dtype: category\n",
       "Categories (10, interval[float64]): [(1.999, 6.074] < (6.074, 10.565] < (10.565, 14.116] < (14.116, 17.387] ... (26.336, 33.554] < (33.554, 46.522] < (46.522, 74.56] < (74.56, 109.999]]"
      ]
     },
     "execution_count": 9,
     "metadata": {},
     "output_type": "execute_result"
    }
   ],
   "source": [
    "pd.qcut(df['M'], q=10)"
   ]
  },
  {
   "cell_type": "code",
   "execution_count": 20,
   "id": "maritime-hollow",
   "metadata": {},
   "outputs": [
    {
     "data": {
      "text/html": [
       "<div>\n",
       "<style scoped>\n",
       "    .dataframe tbody tr th:only-of-type {\n",
       "        vertical-align: middle;\n",
       "    }\n",
       "\n",
       "    .dataframe tbody tr th {\n",
       "        vertical-align: top;\n",
       "    }\n",
       "\n",
       "    .dataframe thead th {\n",
       "        text-align: right;\n",
       "    }\n",
       "</style>\n",
       "<table border=\"1\" class=\"dataframe\">\n",
       "  <thead>\n",
       "    <tr style=\"text-align: right;\">\n",
       "      <th></th>\n",
       "      <th>Run</th>\n",
       "      <th>Event</th>\n",
       "      <th>E1</th>\n",
       "      <th>px1</th>\n",
       "      <th>py1</th>\n",
       "      <th>pz1</th>\n",
       "      <th>pt1</th>\n",
       "      <th>eta1</th>\n",
       "      <th>phi1</th>\n",
       "      <th>Q1</th>\n",
       "      <th>E2</th>\n",
       "      <th>px2</th>\n",
       "      <th>py2</th>\n",
       "      <th>pz2</th>\n",
       "      <th>pt2</th>\n",
       "      <th>eta2</th>\n",
       "      <th>phi2</th>\n",
       "      <th>Q2</th>\n",
       "      <th>M</th>\n",
       "      <th>M&gt;74.56</th>\n",
       "    </tr>\n",
       "  </thead>\n",
       "  <tbody>\n",
       "    <tr>\n",
       "      <th>0</th>\n",
       "      <td>147115</td>\n",
       "      <td>366639895</td>\n",
       "      <td>58.71410</td>\n",
       "      <td>-7.31132</td>\n",
       "      <td>10.531000</td>\n",
       "      <td>-57.29740</td>\n",
       "      <td>12.82020</td>\n",
       "      <td>-2.20267</td>\n",
       "      <td>2.17766</td>\n",
       "      <td>1</td>\n",
       "      <td>11.2836</td>\n",
       "      <td>-1.032340</td>\n",
       "      <td>-1.88066</td>\n",
       "      <td>-11.0778</td>\n",
       "      <td>2.14537</td>\n",
       "      <td>-2.344030</td>\n",
       "      <td>-2.072810</td>\n",
       "      <td>-1</td>\n",
       "      <td>8.94841</td>\n",
       "      <td>False</td>\n",
       "    </tr>\n",
       "    <tr>\n",
       "      <th>1</th>\n",
       "      <td>147115</td>\n",
       "      <td>366704169</td>\n",
       "      <td>6.61188</td>\n",
       "      <td>-4.15213</td>\n",
       "      <td>-0.579855</td>\n",
       "      <td>-5.11278</td>\n",
       "      <td>4.19242</td>\n",
       "      <td>-1.02842</td>\n",
       "      <td>-3.00284</td>\n",
       "      <td>-1</td>\n",
       "      <td>17.1492</td>\n",
       "      <td>-11.713500</td>\n",
       "      <td>5.04474</td>\n",
       "      <td>11.4647</td>\n",
       "      <td>12.75360</td>\n",
       "      <td>0.808077</td>\n",
       "      <td>2.734920</td>\n",
       "      <td>1</td>\n",
       "      <td>15.89300</td>\n",
       "      <td>False</td>\n",
       "    </tr>\n",
       "    <tr>\n",
       "      <th>2</th>\n",
       "      <td>147115</td>\n",
       "      <td>367112316</td>\n",
       "      <td>25.54190</td>\n",
       "      <td>-11.48090</td>\n",
       "      <td>2.041680</td>\n",
       "      <td>22.72460</td>\n",
       "      <td>11.66100</td>\n",
       "      <td>1.42048</td>\n",
       "      <td>2.96560</td>\n",
       "      <td>1</td>\n",
       "      <td>15.8203</td>\n",
       "      <td>-1.472800</td>\n",
       "      <td>2.25895</td>\n",
       "      <td>-15.5888</td>\n",
       "      <td>2.69667</td>\n",
       "      <td>-2.455080</td>\n",
       "      <td>2.148570</td>\n",
       "      <td>1</td>\n",
       "      <td>38.38770</td>\n",
       "      <td>False</td>\n",
       "    </tr>\n",
       "    <tr>\n",
       "      <th>3</th>\n",
       "      <td>147115</td>\n",
       "      <td>366952149</td>\n",
       "      <td>65.39590</td>\n",
       "      <td>7.51214</td>\n",
       "      <td>11.887100</td>\n",
       "      <td>63.86620</td>\n",
       "      <td>14.06190</td>\n",
       "      <td>2.21838</td>\n",
       "      <td>1.00721</td>\n",
       "      <td>1</td>\n",
       "      <td>25.1273</td>\n",
       "      <td>4.087860</td>\n",
       "      <td>2.59641</td>\n",
       "      <td>24.6563</td>\n",
       "      <td>4.84272</td>\n",
       "      <td>2.330210</td>\n",
       "      <td>0.565865</td>\n",
       "      <td>-1</td>\n",
       "      <td>3.72862</td>\n",
       "      <td>False</td>\n",
       "    </tr>\n",
       "    <tr>\n",
       "      <th>4</th>\n",
       "      <td>147115</td>\n",
       "      <td>366523212</td>\n",
       "      <td>61.45040</td>\n",
       "      <td>2.95284</td>\n",
       "      <td>-14.622700</td>\n",
       "      <td>-59.61210</td>\n",
       "      <td>14.91790</td>\n",
       "      <td>-2.09375</td>\n",
       "      <td>-1.37154</td>\n",
       "      <td>-1</td>\n",
       "      <td>13.8871</td>\n",
       "      <td>-0.277757</td>\n",
       "      <td>-2.42560</td>\n",
       "      <td>-13.6708</td>\n",
       "      <td>2.44145</td>\n",
       "      <td>-2.423700</td>\n",
       "      <td>-1.684810</td>\n",
       "      <td>-1</td>\n",
       "      <td>2.74718</td>\n",
       "      <td>False</td>\n",
       "    </tr>\n",
       "  </tbody>\n",
       "</table>\n",
       "</div>"
      ],
      "text/plain": [
       "      Run      Event        E1      px1         py1       pz1       pt1  \\\n",
       "0  147115  366639895  58.71410  -7.31132  10.531000 -57.29740  12.82020   \n",
       "1  147115  366704169   6.61188  -4.15213  -0.579855  -5.11278   4.19242   \n",
       "2  147115  367112316  25.54190 -11.48090   2.041680  22.72460  11.66100   \n",
       "3  147115  366952149  65.39590   7.51214  11.887100  63.86620  14.06190   \n",
       "4  147115  366523212  61.45040   2.95284 -14.622700 -59.61210  14.91790   \n",
       "\n",
       "      eta1     phi1  Q1       E2        px2      py2      pz2       pt2  \\\n",
       "0 -2.20267  2.17766   1  11.2836  -1.032340 -1.88066 -11.0778   2.14537   \n",
       "1 -1.02842 -3.00284  -1  17.1492 -11.713500  5.04474  11.4647  12.75360   \n",
       "2  1.42048  2.96560   1  15.8203  -1.472800  2.25895 -15.5888   2.69667   \n",
       "3  2.21838  1.00721   1  25.1273   4.087860  2.59641  24.6563   4.84272   \n",
       "4 -2.09375 -1.37154  -1  13.8871  -0.277757 -2.42560 -13.6708   2.44145   \n",
       "\n",
       "       eta2      phi2  Q2         M  M>74.56  \n",
       "0 -2.344030 -2.072810  -1   8.94841    False  \n",
       "1  0.808077  2.734920   1  15.89300    False  \n",
       "2 -2.455080  2.148570   1  38.38770    False  \n",
       "3  2.330210  0.565865  -1   3.72862    False  \n",
       "4 -2.423700 -1.684810  -1   2.74718    False  "
      ]
     },
     "execution_count": 20,
     "metadata": {},
     "output_type": "execute_result"
    }
   ],
   "source": [
    "df_split.head()"
   ]
  },
  {
   "cell_type": "code",
   "execution_count": 21,
   "id": "right-worcester",
   "metadata": {},
   "outputs": [],
   "source": [
    "df_split.to_csv('dielectron_classification_10_90.csv')"
   ]
  }
 ],
 "metadata": {
  "kernelspec": {
   "display_name": "Python 3",
   "language": "python",
   "name": "python3"
  },
  "language_info": {
   "codemirror_mode": {
    "name": "ipython",
    "version": 3
   },
   "file_extension": ".py",
   "mimetype": "text/x-python",
   "name": "python",
   "nbconvert_exporter": "python",
   "pygments_lexer": "ipython3",
   "version": "3.8.8"
  }
 },
 "nbformat": 4,
 "nbformat_minor": 5
}
