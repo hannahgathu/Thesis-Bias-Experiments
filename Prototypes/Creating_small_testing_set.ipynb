{
 "cells": [
  {
   "cell_type": "code",
   "execution_count": 10,
   "id": "reflected-invasion",
   "metadata": {},
   "outputs": [],
   "source": [
    "import seaborn as sns\n",
    "import pandas as pd\n",
    "import numpy as np\n",
    "from matplotlib import pyplot as plt\n",
    "from sklearn.svm import SVC, LinearSVC\n",
    "from sklearn.model_selection import train_test_split\n",
    "import os\n",
    "from sklearn.ensemble import RandomForestClassifier\n",
    "from sklearn import metrics\n",
    "from time import time"
   ]
  },
  {
   "cell_type": "markdown",
   "id": "greater-acceptance",
   "metadata": {},
   "source": [
    "# Import data"
   ]
  },
  {
   "cell_type": "code",
   "execution_count": 11,
   "id": "split-carpet",
   "metadata": {
    "tags": []
   },
   "outputs": [],
   "source": [
    "def read_file(url):\n",
    "\n",
    "    url = url + \"?raw=true\"\n",
    "    df = pd.read_csv(url, encoding='cp1252', sep=',', low_memory=False)\n",
    "    return df"
   ]
  },
  {
   "cell_type": "code",
   "execution_count": 12,
   "id": "occasional-oklahoma",
   "metadata": {
    "tags": []
   },
   "outputs": [],
   "source": [
    "df = pd.read_csv('CERN_sampled_rf_0.1_dis_004_000_700.csv')\n"
   ]
  },
  {
   "cell_type": "code",
   "execution_count": 5,
   "id": "knowing-panama",
   "metadata": {},
   "outputs": [],
   "source": [
    "# create new smaller dataframe with 500 positives and 20000 negatives\n",
    "positives=df[df['in_biased_sample']==1].sample(500)\n",
    "negatives=df[df['in_biased_sample']==0].sample(20000)\n",
    "df_medium=positives.append(negatives,ignore_index=True)\n",
    "df_medium.to_csv('CERN_testing_set_500_20000.csv')"
   ]
  },
  {
   "cell_type": "code",
   "execution_count": 7,
   "id": "worth-plenty",
   "metadata": {},
   "outputs": [],
   "source": [
    "# create new smaller dataframe with 30 positives and 2000 negatives\n",
    "positives=df[df['in_biased_sample']==1].sample(30)\n",
    "negatives=df[df['in_biased_sample']==0].sample(2000)\n",
    "df_small=positives.append(negatives,ignore_index=True)"
   ]
  },
  {
   "cell_type": "code",
   "execution_count": 10,
   "id": "blind-combination",
   "metadata": {},
   "outputs": [],
   "source": [
    "# create new smaller dataframe with 5 positives and 100 negatives\n",
    "positives=df[df['in_biased_sample']==1].sample(5)\n",
    "negatives=df[df['in_biased_sample']==0].sample(100)\n",
    "df_small=positives.append(negatives,ignore_index=True)"
   ]
  },
  {
   "cell_type": "code",
   "execution_count": 5,
   "id": "breathing-groove",
   "metadata": {},
   "outputs": [],
   "source": [
    "# create new smaller dataframe with 5 positives and 100 negatives\n",
    "positives=df[df['in_biased_sample']==1].sample(50)\n",
    "negatives=df[df['in_biased_sample']==0].sample(300)\n",
    "df_small=positives.append(negatives,ignore_index=True)"
   ]
  },
  {
   "cell_type": "code",
   "execution_count": 8,
   "id": "pressed-warrior",
   "metadata": {},
   "outputs": [],
   "source": [
    "# create new smaller dataframe with 5 positives and 100 negatives\n",
    "positives=df[df['in_biased_sample']==1].sample(300)\n",
    "negatives=df[df['in_biased_sample']==0].sample(1000)\n",
    "df_small=positives.append(negatives,ignore_index=True)"
   ]
  },
  {
   "cell_type": "code",
   "execution_count": 13,
   "id": "banner-massage",
   "metadata": {},
   "outputs": [],
   "source": [
    "# create new smaller dataframe with 400 positives and 2000 negatives\n",
    "positives=df[df['in_biased_sample']==1].sample(400)\n",
    "negatives=df[df['in_biased_sample']==0].sample(2000)\n",
    "df_small=positives.append(negatives,ignore_index=True)"
   ]
  },
  {
   "cell_type": "code",
   "execution_count": 14,
   "id": "democratic-copper",
   "metadata": {},
   "outputs": [],
   "source": [
    "df_small.to_csv('CERN_testing_set_400_2000.csv')"
   ]
  },
  {
   "cell_type": "code",
   "execution_count": null,
   "id": "caring-fighter",
   "metadata": {},
   "outputs": [],
   "source": [
    "# initialization of AL algorithm:\n",
    "queried_instances=[]\n",
    "rf = RandomForestClassifier()\n",
    "n_of_iterations=5\n",
    "accuracies=[0]*n_of_iterations\n",
    "\n",
    "for i in range(n_of_iterations):\n",
    "    # one iteration of the AL algorithm:\n",
    "    \n",
    "    #retrain classifier\n",
    "    rf.fit(X_sample, y_sample)\n",
    "    \n",
    "    #store accuracy\n",
    "    pred_rf = rf.predict(X)\n",
    "    accuracy = metrics.accuracy_score(y, pred_rf)\n",
    "    accuracies[i] = accuracy\n",
    "    print (accuracy)\n",
    "    \n",
    "    #query instance and add to sample\n",
    "    proximity_matrix = get_proximity_matrix(X, rf)\n",
    "    max_class_probabilities= get_max_class_probabilities(X, rf)\n",
    "    n = query_instance(X_sample, X_pool, rf)\n",
    "    X_pool.drop(n)\n",
    "    y_pool.drop(n)\n",
    "    X_sample.append(X.loc[n])\n",
    "    y_sample.append(y.loc[n])\n",
    "    queried_instances.append(n)"
   ]
  }
 ],
 "metadata": {
  "kernelspec": {
   "display_name": "Python 3",
   "language": "python",
   "name": "python3"
  },
  "language_info": {
   "codemirror_mode": {
    "name": "ipython",
    "version": 3
   },
   "file_extension": ".py",
   "mimetype": "text/x-python",
   "name": "python",
   "nbconvert_exporter": "python",
   "pygments_lexer": "ipython3",
   "version": "3.8.8"
  }
 },
 "nbformat": 4,
 "nbformat_minor": 5
}
