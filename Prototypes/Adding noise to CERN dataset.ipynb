{
 "cells": [
  {
   "cell_type": "code",
   "execution_count": 28,
   "id": "afraid-ending",
   "metadata": {},
   "outputs": [],
   "source": [
    "import seaborn as sns\n",
    "import pandas as pd\n",
    "from matplotlib import pyplot as plt\n",
    "from sklearn.model_selection import train_test_split\n",
    "from sklearn.svm import SVC\n",
    "from sklearn.ensemble import RandomForestClassifier\n",
    "from sklearn import metrics\n",
    "import numpy as np\n",
    "from time import time"
   ]
  },
  {
   "cell_type": "markdown",
   "id": "strategic-excellence",
   "metadata": {},
   "source": [
    "# Import data"
   ]
  },
  {
   "cell_type": "code",
   "execution_count": 31,
   "id": "hearing-thanksgiving",
   "metadata": {
    "tags": []
   },
   "outputs": [],
   "source": [
    "def read_file(url):\n",
    "\n",
    "    url = url + \"?raw=true\"\n",
    "    df = pd.read_csv(url, encoding='cp1252', sep=',', low_memory=False)\n",
    "    return df"
   ]
  },
  {
   "cell_type": "code",
   "execution_count": 32,
   "id": "gentle-timeline",
   "metadata": {
    "tags": []
   },
   "outputs": [],
   "source": [
    "url = \"https://github.com/hannahgathu/Thesis-Data-Visualisations/blob/main/Data/dielectron_classification.csv\"\n",
    "\n",
    "df= read_file(url)"
   ]
  },
  {
   "cell_type": "markdown",
   "id": "circular-offering",
   "metadata": {
    "tags": []
   },
   "source": [
    "# Train classifier"
   ]
  },
  {
   "cell_type": "code",
   "execution_count": 33,
   "id": "eight-bailey",
   "metadata": {},
   "outputs": [
    {
     "name": "stdout",
     "output_type": "stream",
     "text": [
      "training time:  22.818 s\n",
      "predicting time:  0.471 s\n",
      "Accuracy: 0.9582666666666667\n"
     ]
    }
   ],
   "source": [
    "#split data\n",
    "y=df.M>21.3\n",
    "#additional to dropping the endpoints we also drop the run and event numbers, because those aren't predictors\n",
    "X=df.drop(columns=['M>21.3','M','Run','Event'])\n",
    "X_train, X_test, y_train, y_test = train_test_split(X,y,test_size=0.3, random_state=42)\n",
    "\n",
    "#train rf\n",
    "rf = RandomForestClassifier()\n",
    "t0 = time()\n",
    "rf.fit(X_train, y_train)\n",
    "print ('training time: ', round(time()-t0, 3), 's')\n",
    "\n",
    "#calculate accuracy\n",
    "t1=time()\n",
    "pred_rf = rf.predict(X_test)\n",
    "print ('predicting time: ', round(time()-t1, 3), 's')\n",
    "print(\"Accuracy:\",metrics.accuracy_score(y_test, pred_rf))"
   ]
  },
  {
   "cell_type": "markdown",
   "id": "alike-parent",
   "metadata": {},
   "source": [
    "# Add noise"
   ]
  },
  {
   "cell_type": "code",
   "execution_count": 34,
   "id": "numerical-characteristic",
   "metadata": {},
   "outputs": [],
   "source": [
    "def add_noise (mean, std, data):\n",
    "    for i in range(data.shape[0]):\n",
    "        data.at[i,'M']=data.iloc[i].loc['M']+np.random.normal(0,3)\n",
    "    return data"
   ]
  },
  {
   "cell_type": "code",
   "execution_count": 38,
   "id": "spectacular-shanghai",
   "metadata": {},
   "outputs": [],
   "source": [
    "df_noise=add_noise(0,8,df)"
   ]
  },
  {
   "cell_type": "markdown",
   "id": "enhanced-smoke",
   "metadata": {},
   "source": [
    "# Transform to classification problem"
   ]
  },
  {
   "cell_type": "code",
   "execution_count": 39,
   "id": "separated-profession",
   "metadata": {},
   "outputs": [],
   "source": [
    "    for i in range(df_noise.shape[0]):\n",
    "        df_noise.at[i,'M>21.3']=int(df_noise.iloc[i].loc['M']>21.3)"
   ]
  },
  {
   "cell_type": "markdown",
   "id": "living-smell",
   "metadata": {},
   "source": [
    "# Train classifier on noisy data"
   ]
  },
  {
   "cell_type": "code",
   "execution_count": 40,
   "id": "fewer-guyana",
   "metadata": {},
   "outputs": [
    {
     "name": "stdout",
     "output_type": "stream",
     "text": [
      "training time:  23.629 s\n",
      "predicting time:  0.532 s\n",
      "Accuracy: 0.9069\n"
     ]
    }
   ],
   "source": [
    "#split data\n",
    "y_noise=df_noise.M>21.3\n",
    "#additional to dropping the endpoints we also drop the run and event numbers, because those aren't predictors\n",
    "X=df.drop(columns=['M>21.3','M','Run','Event'])\n",
    "X_train_noise, X_test_noise, y_train_noise, y_test_noise = train_test_split(X,y_noise,test_size=0.3, random_state=42)\n",
    "\n",
    "#train rf\n",
    "rf = RandomForestClassifier()\n",
    "t0 = time()\n",
    "rf.fit(X_train_noise, y_train_noise)\n",
    "print ('training time: ', round(time()-t0, 3), 's')\n",
    "\n",
    "#calculate accuracy\n",
    "t1=time()\n",
    "pred_rf_noise = rf.predict(X_test_noise)\n",
    "print ('predicting time: ', round(time()-t1, 3), 's')\n",
    "print(\"Accuracy:\",metrics.accuracy_score(y_test_noise, pred_rf_noise))"
   ]
  }
 ],
 "metadata": {
  "kernelspec": {
   "display_name": "Python 3",
   "language": "python",
   "name": "python3"
  },
  "language_info": {
   "codemirror_mode": {
    "name": "ipython",
    "version": 3
   },
   "file_extension": ".py",
   "mimetype": "text/x-python",
   "name": "python",
   "nbconvert_exporter": "python",
   "pygments_lexer": "ipython3",
   "version": "3.8.8"
  }
 },
 "nbformat": 4,
 "nbformat_minor": 5
}
