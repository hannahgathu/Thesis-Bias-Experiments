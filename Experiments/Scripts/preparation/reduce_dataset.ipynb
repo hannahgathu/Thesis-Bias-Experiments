{
 "cells": [
  {
   "cell_type": "code",
   "execution_count": 1,
   "id": "specialized-driving",
   "metadata": {},
   "outputs": [],
   "source": [
    "import seaborn as sns\n",
    "import pandas as pd\n",
    "import kneed\n",
    "from matplotlib import pyplot as plt\n",
    "from sklearn.model_selection import train_test_split\n",
    "from sklearn.svm import SVC\n",
    "from sklearn.ensemble import RandomForestClassifier\n",
    "from sklearn import metrics\n",
    "from time import time\n",
    "import numpy as np"
   ]
  },
  {
   "cell_type": "code",
   "execution_count": 2,
   "id": "hungarian-interstate",
   "metadata": {},
   "outputs": [],
   "source": [
    "def read_file(url):\n",
    "\n",
    "    url = url + \"?raw=true\"\n",
    "    df = pd.read_csv(url, encoding='cp1252', sep=',', low_memory=False)\n",
    "    return df"
   ]
  },
  {
   "cell_type": "code",
   "execution_count": 3,
   "id": "recorded-disaster",
   "metadata": {},
   "outputs": [],
   "source": [
    "df= read_file(\"https://github.com/hannahgathu/Thesis-Data-Visualisations/blob/main/Data/benchmark_data/dielectron.csv\")"
   ]
  },
  {
   "cell_type": "code",
   "execution_count": 4,
   "id": "gothic-stake",
   "metadata": {},
   "outputs": [],
   "source": [
    "df_reduced=df.sample(20000)"
   ]
  },
  {
   "cell_type": "code",
   "execution_count": 5,
   "id": "independent-ratio",
   "metadata": {},
   "outputs": [],
   "source": [
    "df_reduced.to_csv('dielectron_reduced.csv')"
   ]
  }
 ],
 "metadata": {
  "kernelspec": {
   "display_name": "Python 3",
   "language": "python",
   "name": "python3"
  },
  "language_info": {
   "codemirror_mode": {
    "name": "ipython",
    "version": 3
   },
   "file_extension": ".py",
   "mimetype": "text/x-python",
   "name": "python",
   "nbconvert_exporter": "python",
   "pygments_lexer": "ipython3",
   "version": "3.8.8"
  }
 },
 "nbformat": 4,
 "nbformat_minor": 5
}
