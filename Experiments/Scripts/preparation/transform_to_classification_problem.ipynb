{
 "cells": [
  {
   "cell_type": "code",
   "execution_count": 1,
   "id": "beginning-terry",
   "metadata": {},
   "outputs": [],
   "source": [
    "import seaborn as sns\n",
    "import pandas as pd\n",
    "import numpy as np"
   ]
  },
  {
   "cell_type": "code",
   "execution_count": 2,
   "id": "desirable-sussex",
   "metadata": {
    "tags": []
   },
   "outputs": [],
   "source": [
    "def read_file(url):\n",
    "\n",
    "    url = url + \"?raw=true\"\n",
    "    df = pd.read_csv(url, encoding='cp1252', sep=',', low_memory=False)\n",
    "    return df"
   ]
  },
  {
   "cell_type": "code",
   "execution_count": 3,
   "id": "worthy-offering",
   "metadata": {},
   "outputs": [],
   "source": [
    "url = \"https://github.com/hannahgathu/Thesis-Data-Visualisations/blob/main/Data/benchmark_data/dielectron.csv\"\n",
    "\n",
    "df= read_file(url)"
   ]
  },
  {
   "cell_type": "code",
   "execution_count": 12,
   "id": "intellectual-loading",
   "metadata": {},
   "outputs": [],
   "source": [
    "df=pd.read_csv('dielectron_reduced_40000.csv')"
   ]
  },
  {
   "cell_type": "markdown",
   "id": "foster-beatles",
   "metadata": {},
   "source": [
    "## Add noise"
   ]
  },
  {
   "cell_type": "code",
   "execution_count": 16,
   "id": "pressed-robertson",
   "metadata": {},
   "outputs": [],
   "source": [
    "def add_noise (std, data):\n",
    "    for i in range(data.shape[0]):\n",
    "        data.at[i,'M']=data.iloc[i].loc['M']+np.random.normal(0,std)\n",
    "    return data"
   ]
  },
  {
   "cell_type": "code",
   "execution_count": 8,
   "id": "surprising-trinidad",
   "metadata": {},
   "outputs": [],
   "source": [
    "df=add_noise(5,df)"
   ]
  },
  {
   "cell_type": "code",
   "execution_count": 11,
   "id": "endless-brown",
   "metadata": {
    "tags": []
   },
   "outputs": [],
   "source": [
    "df.to_csv('dielectron_reduced_noise.csv')"
   ]
  },
  {
   "cell_type": "markdown",
   "id": "behind-stability",
   "metadata": {},
   "source": [
    "## Transform to classification problem "
   ]
  },
  {
   "cell_type": "code",
   "execution_count": 13,
   "id": "protective-highland",
   "metadata": {
    "tags": []
   },
   "outputs": [
    {
     "data": {
      "text/plain": [
       "0          (6.063, 10.531]\n",
       "1         (46.609, 74.316]\n",
       "2          (6.063, 10.531]\n",
       "3         (17.514, 21.379]\n",
       "4         (17.514, 21.379]\n",
       "               ...        \n",
       "39995       (21.379, 26.4]\n",
       "39996     (17.514, 21.379]\n",
       "39997    (74.316, 109.999]\n",
       "39998     (10.531, 14.154]\n",
       "39999      (6.063, 10.531]\n",
       "Name: M, Length: 40000, dtype: category\n",
       "Categories (10, interval[float64]): [(1.999, 6.063] < (6.063, 10.531] < (10.531, 14.154] < (14.154, 17.514] ... (26.4, 33.746] < (33.746, 46.609] < (46.609, 74.316] < (74.316, 109.999]]"
      ]
     },
     "execution_count": 13,
     "metadata": {},
     "output_type": "execute_result"
    }
   ],
   "source": [
    "#find split value for M:\n",
    "pd.qcut(df['M'], q=10)"
   ]
  },
  {
   "cell_type": "code",
   "execution_count": 14,
   "id": "seven-acoustic",
   "metadata": {},
   "outputs": [],
   "source": [
    "def to_classification_problem(df, split_value):\n",
    "    column_name=\"M>{}\".format(split_value)\n",
    "    df[column_name]=df['M']>split_value\n",
    "    return df"
   ]
  },
  {
   "cell_type": "code",
   "execution_count": 15,
   "id": "answering-farming",
   "metadata": {},
   "outputs": [],
   "source": [
    "df=to_classification_problem(df, 21.3)"
   ]
  }
 ],
 "metadata": {
  "kernelspec": {
   "display_name": "Python 3",
   "language": "python",
   "name": "python3"
  },
  "language_info": {
   "codemirror_mode": {
    "name": "ipython",
    "version": 3
   },
   "file_extension": ".py",
   "mimetype": "text/x-python",
   "name": "python",
   "nbconvert_exporter": "python",
   "pygments_lexer": "ipython3",
   "version": "3.8.8"
  }
 },
 "nbformat": 4,
 "nbformat_minor": 5
}
