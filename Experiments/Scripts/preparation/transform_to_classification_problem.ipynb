{
 "cells": [
  {
   "cell_type": "code",
   "execution_count": 1,
   "id": "tutorial-bhutan",
   "metadata": {},
   "outputs": [],
   "source": [
    "import seaborn as sns\n",
    "import pandas as pd\n",
    "import numpy as np"
   ]
  },
  {
   "cell_type": "code",
   "execution_count": 2,
   "id": "verbal-adapter",
   "metadata": {
    "tags": []
   },
   "outputs": [],
   "source": [
    "def read_file(url):\n",
    "\n",
    "    url = url + \"?raw=true\"\n",
    "    df = pd.read_csv(url, encoding='cp1252', sep=',', low_memory=False)\n",
    "    return df"
   ]
  },
  {
   "cell_type": "code",
   "execution_count": 3,
   "id": "dominant-trauma",
   "metadata": {},
   "outputs": [],
   "source": [
    "url = \"https://github.com/hannahgathu/Thesis-Data-Visualisations/blob/main/Data/benchmark_data/dielectron.csv\"\n",
    "\n",
    "df= read_file(url)"
   ]
  },
  {
   "cell_type": "code",
   "execution_count": 5,
   "id": "beautiful-current",
   "metadata": {},
   "outputs": [],
   "source": [
    "df=pd.read_csv('dielectron_reduced_noise.csv')"
   ]
  },
  {
   "cell_type": "markdown",
   "id": "determined-olive",
   "metadata": {},
   "source": [
    "## Transform to classification problem "
   ]
  },
  {
   "cell_type": "code",
   "execution_count": 10,
   "id": "operational-offer",
   "metadata": {
    "tags": []
   },
   "outputs": [
    {
     "data": {
      "text/plain": [
       "(0                    (19.809, 22.054]\n",
       " 1        (-14.834999999999999, 2.187]\n",
       " 2                      (2.187, 5.439]\n",
       " 3                     (7.753, 10.034]\n",
       " 4                   (89.194, 121.712]\n",
       "                      ...             \n",
       " 19995                 (17.81, 19.809]\n",
       " 19996                 (34.049, 39.21]\n",
       " 19997                (57.434, 73.533]\n",
       " 19998                (24.348, 27.011]\n",
       " 19999               (89.194, 121.712]\n",
       " Name: M_noise, Length: 20000, dtype: category\n",
       " Categories (20, interval[float64]): [(-14.834999999999999, 2.187] < (2.187, 5.439] < (5.439, 7.753] < (7.753, 10.034] ... (46.346, 57.434] < (57.434, 73.533] < (73.533, 89.194] < (89.194, 121.712]],\n",
       " array([-14.83366069,   2.18675129,   5.43900806,   7.75347582,\n",
       "         10.03358981,  12.10469687,  13.98669275,  15.92208855,\n",
       "         17.80966991,  19.80853922,  22.05386631,  24.34753448,\n",
       "         27.01058868,  30.02802891,  34.04902415,  39.20996925,\n",
       "         46.34597692,  57.43379913,  73.53342758,  89.19410705,\n",
       "        121.71242643]))"
      ]
     },
     "execution_count": 10,
     "metadata": {},
     "output_type": "execute_result"
    }
   ],
   "source": [
    "#find split value for M:\n",
    "pd.qcut(df['M_noise'], q=20, retbins=True)"
   ]
  },
  {
   "cell_type": "code",
   "execution_count": 11,
   "id": "instant-prototype",
   "metadata": {},
   "outputs": [],
   "source": [
    "#10/90:\n",
    "#split_value= 73.53\n",
    "#25/75:\n",
    "#split_value= 39.21\n",
    "#50/50\n",
    "split_value=22.05\n"
   ]
  },
  {
   "cell_type": "code",
   "execution_count": 22,
   "id": "preliminary-philosophy",
   "metadata": {},
   "outputs": [],
   "source": [
    "def to_classification_problem(df, split_value):\n",
    "    column_name='y_10'\n",
    "    df[column_name]=df['M_noise']>split_value\n",
    "    return df"
   ]
  },
  {
   "cell_type": "code",
   "execution_count": 23,
   "id": "interior-porter",
   "metadata": {},
   "outputs": [],
   "source": [
    "df=to_classification_problem(df, 73.53)"
   ]
  },
  {
   "cell_type": "code",
   "execution_count": 29,
   "id": "viral-beach",
   "metadata": {},
   "outputs": [],
   "source": [
    "df.to_csv('dielectron_reduced_noise_classes.csv')"
   ]
  },
  {
   "cell_type": "code",
   "execution_count": 27,
   "id": "understanding-princess",
   "metadata": {},
   "outputs": [
    {
     "data": {
      "text/plain": [
       "2001"
      ]
     },
     "execution_count": 27,
     "metadata": {},
     "output_type": "execute_result"
    }
   ],
   "source": [
    "df[df['y_10']==1].shape[0]"
   ]
  }
 ],
 "metadata": {
  "kernelspec": {
   "display_name": "Python 3",
   "language": "python",
   "name": "python3"
  },
  "language_info": {
   "codemirror_mode": {
    "name": "ipython",
    "version": 3
   },
   "file_extension": ".py",
   "mimetype": "text/x-python",
   "name": "python",
   "nbconvert_exporter": "python",
   "pygments_lexer": "ipython3",
   "version": "3.8.8"
  }
 },
 "nbformat": 4,
 "nbformat_minor": 5
}
