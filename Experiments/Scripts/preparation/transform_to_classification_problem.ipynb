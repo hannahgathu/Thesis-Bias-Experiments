{
 "cells": [
  {
   "cell_type": "code",
   "execution_count": 1,
   "id": "professional-dollar",
   "metadata": {},
   "outputs": [],
   "source": [
    "import seaborn as sns\n",
    "import pandas as pd\n",
    "import numpy as np"
   ]
  },
  {
   "cell_type": "code",
   "execution_count": 2,
   "id": "global-demand",
   "metadata": {
    "tags": []
   },
   "outputs": [],
   "source": [
    "def read_file(url):\n",
    "\n",
    "    url = url + \"?raw=true\"\n",
    "    df = pd.read_csv(url, encoding='cp1252', sep=',', low_memory=False)\n",
    "    return df"
   ]
  },
  {
   "cell_type": "code",
   "execution_count": 3,
   "id": "every-performer",
   "metadata": {},
   "outputs": [],
   "source": [
    "url = \"https://github.com/hannahgathu/Thesis-Data-Visualisations/blob/main/Data/benchmark_data/dielectron.csv\"\n",
    "\n",
    "df= read_file(url)"
   ]
  },
  {
   "cell_type": "code",
   "execution_count": 4,
   "id": "healthy-curtis",
   "metadata": {},
   "outputs": [],
   "source": [
    "df=pd.read_csv('dielectron_reduced_12000_noise.csv')"
   ]
  },
  {
   "cell_type": "markdown",
   "id": "approximate-feature",
   "metadata": {},
   "source": [
    "## Transform to classification problem "
   ]
  },
  {
   "cell_type": "code",
   "execution_count": 5,
   "id": "traditional-chuck",
   "metadata": {
    "tags": []
   },
   "outputs": [
    {
     "data": {
      "text/plain": [
       "(0         (19.675, 21.761]\n",
       " 1         (21.761, 24.172]\n",
       " 2           (5.434, 7.982]\n",
       " 3         (46.125, 57.327]\n",
       " 4          (57.327, 73.02]\n",
       "                ...        \n",
       " 11995     (33.879, 39.307]\n",
       " 11996     (46.125, 57.327]\n",
       " 11997      (17.72, 19.675]\n",
       " 11998    (89.453, 116.927]\n",
       " 11999       (2.023, 5.434]\n",
       " Name: M_noise, Length: 12000, dtype: category\n",
       " Categories (20, interval[float64]): [(-12.118, 2.023] < (2.023, 5.434] < (5.434, 7.982] < (7.982, 10.091] ... (46.125, 57.327] < (57.327, 73.02] < (73.02, 89.453] < (89.453, 116.927]],\n",
       " array([-12.11676847,   2.022683  ,   5.43443445,   7.98185409,\n",
       "         10.09081316,  12.17359606,  13.979508  ,  15.70267889,\n",
       "         17.72002488,  19.67545567,  21.76127893,  24.17152616,\n",
       "         27.03853528,  30.13867874,  33.87866126,  39.30671237,\n",
       "         46.12538847,  57.3265691 ,  73.02009259,  89.45290883,\n",
       "        116.92728487]))"
      ]
     },
     "execution_count": 5,
     "metadata": {},
     "output_type": "execute_result"
    }
   ],
   "source": [
    "#find split value for M:\n",
    "pd.qcut(df['M_noise'], q=20, retbins=True)"
   ]
  },
  {
   "cell_type": "code",
   "execution_count": 6,
   "id": "fatal-experiment",
   "metadata": {},
   "outputs": [],
   "source": [
    "#10/90:\n",
    "#split_value= 73.53\n",
    "#split_value= 73.02 #12000\n",
    "#25/75:\n",
    "#split_value= 39.21\n",
    "#split_value= 39.307 #12000\n",
    "#50/50\n",
    "#split_value=22.05\n",
    "#split_value= 21.76 #12000\n"
   ]
  },
  {
   "cell_type": "code",
   "execution_count": 16,
   "id": "conventional-regression",
   "metadata": {},
   "outputs": [],
   "source": [
    "def to_classification_problem(df, split_value):\n",
    "    column_name='y_50'\n",
    "    df[column_name]=df['M_noise']>split_value\n",
    "    return df"
   ]
  },
  {
   "cell_type": "code",
   "execution_count": 17,
   "id": "dynamic-williams",
   "metadata": {},
   "outputs": [],
   "source": [
    "df=to_classification_problem(df, 21.76)"
   ]
  },
  {
   "cell_type": "code",
   "execution_count": 20,
   "id": "abroad-fighter",
   "metadata": {},
   "outputs": [],
   "source": [
    "df.to_csv('dielectron_reduced_12000_noise_classes.csv')"
   ]
  },
  {
   "cell_type": "code",
   "execution_count": 19,
   "id": "personal-original",
   "metadata": {},
   "outputs": [
    {
     "data": {
      "text/plain": [
       "5996"
      ]
     },
     "execution_count": 19,
     "metadata": {},
     "output_type": "execute_result"
    }
   ],
   "source": [
    "df[df['y_50']==1].shape[0]"
   ]
  }
 ],
 "metadata": {
  "kernelspec": {
   "display_name": "Python 3",
   "language": "python",
   "name": "python3"
  },
  "language_info": {
   "codemirror_mode": {
    "name": "ipython",
    "version": 3
   },
   "file_extension": ".py",
   "mimetype": "text/x-python",
   "name": "python",
   "nbconvert_exporter": "python",
   "pygments_lexer": "ipython3",
   "version": "3.8.8"
  }
 },
 "nbformat": 4,
 "nbformat_minor": 5
}
