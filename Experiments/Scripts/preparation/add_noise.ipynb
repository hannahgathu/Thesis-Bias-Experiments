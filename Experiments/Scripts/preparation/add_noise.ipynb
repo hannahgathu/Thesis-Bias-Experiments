{
 "cells": [
  {
   "cell_type": "code",
   "execution_count": 1,
   "id": "chinese-nylon",
   "metadata": {},
   "outputs": [],
   "source": [
    "import seaborn as sns\n",
    "import pandas as pd\n",
    "import numpy as np"
   ]
  },
  {
   "cell_type": "code",
   "execution_count": 2,
   "id": "popular-capacity",
   "metadata": {
    "tags": []
   },
   "outputs": [],
   "source": [
    "def read_file(url):\n",
    "\n",
    "    url = url + \"?raw=true\"\n",
    "    df = pd.read_csv(url, encoding='cp1252', sep=',', low_memory=False)\n",
    "    return df"
   ]
  },
  {
   "cell_type": "code",
   "execution_count": 3,
   "id": "psychological-segment",
   "metadata": {},
   "outputs": [],
   "source": [
    "url = \"https://github.com/hannahgathu/Thesis-Data-Visualisations/blob/main/Data/benchmark_data/dielectron.csv\"\n",
    "\n",
    "df= read_file(url)"
   ]
  },
  {
   "cell_type": "code",
   "execution_count": 12,
   "id": "subjective-underwear",
   "metadata": {},
   "outputs": [],
   "source": [
    "df=pd.read_csv('dielectron_reduced_40000.csv')"
   ]
  },
  {
   "cell_type": "markdown",
   "id": "viral-ancient",
   "metadata": {},
   "source": [
    "## Add noise"
   ]
  },
  {
   "cell_type": "code",
   "execution_count": 16,
   "id": "sought-duplicate",
   "metadata": {},
   "outputs": [],
   "source": [
    "def add_noise (std, data):\n",
    "    for i in range(data.shape[0]):\n",
    "        data.at[i,'M']=data.iloc[i].loc['M']+np.random.normal(0,std)\n",
    "    return data"
   ]
  },
  {
   "cell_type": "code",
   "execution_count": 8,
   "id": "collaborative-litigation",
   "metadata": {},
   "outputs": [],
   "source": [
    "df=add_noise(5,df)"
   ]
  },
  {
   "cell_type": "code",
   "execution_count": 11,
   "id": "liable-footage",
   "metadata": {
    "tags": []
   },
   "outputs": [],
   "source": [
    "df.to_csv('dielectron_reduced_noise.csv')"
   ]
  }
 ],
 "metadata": {
  "kernelspec": {
   "display_name": "Python 3",
   "language": "python",
   "name": "python3"
  },
  "language_info": {
   "codemirror_mode": {
    "name": "ipython",
    "version": 3
   },
   "file_extension": ".py",
   "mimetype": "text/x-python",
   "name": "python",
   "nbconvert_exporter": "python",
   "pygments_lexer": "ipython3",
   "version": "3.8.8"
  }
 },
 "nbformat": 4,
 "nbformat_minor": 5
}
