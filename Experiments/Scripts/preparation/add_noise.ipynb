{
 "cells": [
  {
   "cell_type": "code",
   "execution_count": 1,
   "id": "essential-penguin",
   "metadata": {},
   "outputs": [],
   "source": [
    "import seaborn as sns\n",
    "import pandas as pd\n",
    "import numpy as np"
   ]
  },
  {
   "cell_type": "code",
   "execution_count": 2,
   "id": "criminal-verification",
   "metadata": {
    "tags": []
   },
   "outputs": [],
   "source": [
    "def read_file(url):\n",
    "\n",
    "    url = url + \"?raw=true\"\n",
    "    df = pd.read_csv(url, encoding='cp1252', sep=',', low_memory=False)\n",
    "    return df"
   ]
  },
  {
   "cell_type": "code",
   "execution_count": 5,
   "id": "still-yorkshire",
   "metadata": {},
   "outputs": [],
   "source": [
    "url = \"https://github.com/hannahgathu/Thesis-Data-Visualisations/blob/main/Data/benchmark_data/dielectron.csv\"\n",
    "\n",
    "df= read_file(url)"
   ]
  },
  {
   "cell_type": "code",
   "execution_count": 3,
   "id": "operating-housing",
   "metadata": {},
   "outputs": [],
   "source": [
    "df=pd.read_csv('dielectron_reduced_12000.csv')"
   ]
  },
  {
   "cell_type": "markdown",
   "id": "stainless-stream",
   "metadata": {},
   "source": [
    "## Add noise"
   ]
  },
  {
   "cell_type": "code",
   "execution_count": 4,
   "id": "humanitarian-second",
   "metadata": {},
   "outputs": [],
   "source": [
    "df['M_noise']=[None]*df.shape[0]"
   ]
  },
  {
   "cell_type": "code",
   "execution_count": 5,
   "id": "protecting-backup",
   "metadata": {},
   "outputs": [],
   "source": [
    "def add_noise (std, data):\n",
    "    for i in range(data.shape[0]):\n",
    "        data.at[i,'M_noise']=data.iloc[i].loc['M']+np.random.normal(0,std)\n",
    "    return data"
   ]
  },
  {
   "cell_type": "code",
   "execution_count": 6,
   "id": "falling-newsletter",
   "metadata": {},
   "outputs": [],
   "source": [
    "df=add_noise(5,df)"
   ]
  },
  {
   "cell_type": "code",
   "execution_count": 7,
   "id": "valued-copper",
   "metadata": {
    "tags": []
   },
   "outputs": [],
   "source": [
    "df.to_csv('dielectron_reduced_12000_noise.csv')"
   ]
  }
 ],
 "metadata": {
  "kernelspec": {
   "display_name": "Python 3",
   "language": "python",
   "name": "python3"
  },
  "language_info": {
   "codemirror_mode": {
    "name": "ipython",
    "version": 3
   },
   "file_extension": ".py",
   "mimetype": "text/x-python",
   "name": "python",
   "nbconvert_exporter": "python",
   "pygments_lexer": "ipython3",
   "version": "3.8.8"
  }
 },
 "nbformat": 4,
 "nbformat_minor": 5
}
