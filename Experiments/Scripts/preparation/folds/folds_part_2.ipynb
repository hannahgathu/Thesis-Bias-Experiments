{
 "cells": [
  {
   "cell_type": "code",
   "execution_count": 1,
   "id": "neither-fashion",
   "metadata": {},
   "outputs": [],
   "source": [
    "import seaborn as sns\n",
    "import pandas as pd\n",
    "import numpy as np"
   ]
  },
  {
   "cell_type": "code",
   "execution_count": 2,
   "id": "invalid-committee",
   "metadata": {},
   "outputs": [],
   "source": [
    "df_reduced=pd.read_csv('dielectron_reduced_noise_classes.csv')"
   ]
  },
  {
   "cell_type": "code",
   "execution_count": 22,
   "id": "ceramic-satin",
   "metadata": {},
   "outputs": [],
   "source": [
    "#for i in range(11,12):\n",
    "i=11\n",
    "fold_train=df_reduced.loc[pd.read_csv('train_index_{}.csv'.format(i)).iloc[:,1].tolist()]\n",
    "#fold_test=df_reduced.loc[pd.read_csv('test_index_{}.csv'.format(i)).iloc[:,1].tolist()]\n",
    "\n",
    "fold_train['index_reduced']=fold_train.iloc[:,[1]]\n",
    "fold_train['index_og']=fold_train.iloc[:,[2]]\n",
    "\n",
    "#fold_test['index_reduced']=fold_test.iloc[:,[1]]\n",
    "#fold_test['index_og']=fold_test.iloc[:,[2]]\n",
    "\n",
    "fold_train=fold_train.iloc[:,3:]\n",
    "#fold_test=fold_test.iloc[:,3:]\n",
    "\n",
    "fold_train=fold_train.reset_index(drop=True)\n",
    "#fold_test=fold_test.reset_index(drop=True)\n",
    "\n",
    "fold_train.to_csv('train_{}.csv'.format(i))\n",
    "#fold_test.to_csv('test_{}.csv'.format(i))"
   ]
  }
 ],
 "metadata": {
  "kernelspec": {
   "display_name": "Python 3",
   "language": "python",
   "name": "python3"
  },
  "language_info": {
   "codemirror_mode": {
    "name": "ipython",
    "version": 3
   },
   "file_extension": ".py",
   "mimetype": "text/x-python",
   "name": "python",
   "nbconvert_exporter": "python",
   "pygments_lexer": "ipython3",
   "version": "3.8.8"
  }
 },
 "nbformat": 4,
 "nbformat_minor": 5
}
