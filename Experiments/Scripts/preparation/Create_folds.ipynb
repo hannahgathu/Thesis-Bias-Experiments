{
 "cells": [
  {
   "cell_type": "code",
   "execution_count": 1,
   "id": "adaptive-allowance",
   "metadata": {},
   "outputs": [],
   "source": [
    "import seaborn as sns\n",
    "import pandas as pd\n",
    "import numpy as np\n",
    "from sklearn import model_selection"
   ]
  },
  {
   "cell_type": "code",
   "execution_count": 4,
   "id": "interim-method",
   "metadata": {},
   "outputs": [],
   "source": [
    "df=pd.read_csv('dielectron_reduced_12000_noise_classes.csv')"
   ]
  },
  {
   "cell_type": "code",
   "execution_count": 5,
   "id": "unauthorized-billy",
   "metadata": {},
   "outputs": [],
   "source": [
    "rskf = model_selection.RepeatedStratifiedKFold(n_splits=10, n_repeats=2)"
   ]
  },
  {
   "cell_type": "code",
   "execution_count": 5,
   "id": "extensive-package",
   "metadata": {},
   "outputs": [
    {
     "data": {
      "text/html": [
       "<div>\n",
       "<style scoped>\n",
       "    .dataframe tbody tr th:only-of-type {\n",
       "        vertical-align: middle;\n",
       "    }\n",
       "\n",
       "    .dataframe tbody tr th {\n",
       "        vertical-align: top;\n",
       "    }\n",
       "\n",
       "    .dataframe thead th {\n",
       "        text-align: right;\n",
       "    }\n",
       "</style>\n",
       "<table border=\"1\" class=\"dataframe\">\n",
       "  <thead>\n",
       "    <tr style=\"text-align: right;\">\n",
       "      <th></th>\n",
       "      <th>Unnamed: 0</th>\n",
       "      <th>Unnamed: 0.1</th>\n",
       "      <th>Unnamed: 0.1.1</th>\n",
       "      <th>Run</th>\n",
       "      <th>Event</th>\n",
       "      <th>E1</th>\n",
       "      <th>px1</th>\n",
       "      <th>py1</th>\n",
       "      <th>pz1</th>\n",
       "      <th>pt1</th>\n",
       "      <th>...</th>\n",
       "      <th>pz2</th>\n",
       "      <th>pt2</th>\n",
       "      <th>eta2</th>\n",
       "      <th>phi2</th>\n",
       "      <th>Q2</th>\n",
       "      <th>M</th>\n",
       "      <th>M_noise</th>\n",
       "      <th>y_50</th>\n",
       "      <th>y_25</th>\n",
       "      <th>y_10</th>\n",
       "    </tr>\n",
       "  </thead>\n",
       "  <tbody>\n",
       "    <tr>\n",
       "      <th>0</th>\n",
       "      <td>0</td>\n",
       "      <td>0</td>\n",
       "      <td>74881</td>\n",
       "      <td>148029</td>\n",
       "      <td>71813147</td>\n",
       "      <td>20.47820</td>\n",
       "      <td>-13.14120</td>\n",
       "      <td>5.940140</td>\n",
       "      <td>-14.538900</td>\n",
       "      <td>14.42140</td>\n",
       "      <td>...</td>\n",
       "      <td>-13.046700</td>\n",
       "      <td>8.11562</td>\n",
       "      <td>-1.253010</td>\n",
       "      <td>0.012442</td>\n",
       "      <td>1</td>\n",
       "      <td>21.49430</td>\n",
       "      <td>21.405405</td>\n",
       "      <td>False</td>\n",
       "      <td>False</td>\n",
       "      <td>False</td>\n",
       "    </tr>\n",
       "    <tr>\n",
       "      <th>1</th>\n",
       "      <td>1</td>\n",
       "      <td>1</td>\n",
       "      <td>44373</td>\n",
       "      <td>149011</td>\n",
       "      <td>911248516</td>\n",
       "      <td>9.75222</td>\n",
       "      <td>3.45327</td>\n",
       "      <td>1.552560</td>\n",
       "      <td>8.987230</td>\n",
       "      <td>3.78623</td>\n",
       "      <td>...</td>\n",
       "      <td>8.201500</td>\n",
       "      <td>2.45081</td>\n",
       "      <td>1.922660</td>\n",
       "      <td>2.407360</td>\n",
       "      <td>1</td>\n",
       "      <td>5.19656</td>\n",
       "      <td>-1.101298</td>\n",
       "      <td>False</td>\n",
       "      <td>False</td>\n",
       "      <td>False</td>\n",
       "    </tr>\n",
       "    <tr>\n",
       "      <th>2</th>\n",
       "      <td>2</td>\n",
       "      <td>2</td>\n",
       "      <td>97565</td>\n",
       "      <td>146511</td>\n",
       "      <td>403962773</td>\n",
       "      <td>2.70327</td>\n",
       "      <td>2.65829</td>\n",
       "      <td>-0.439502</td>\n",
       "      <td>0.219013</td>\n",
       "      <td>2.69438</td>\n",
       "      <td>...</td>\n",
       "      <td>0.447973</td>\n",
       "      <td>12.36220</td>\n",
       "      <td>0.036229</td>\n",
       "      <td>2.555470</td>\n",
       "      <td>1</td>\n",
       "      <td>11.28940</td>\n",
       "      <td>3.615598</td>\n",
       "      <td>False</td>\n",
       "      <td>False</td>\n",
       "      <td>False</td>\n",
       "    </tr>\n",
       "    <tr>\n",
       "      <th>3</th>\n",
       "      <td>3</td>\n",
       "      <td>3</td>\n",
       "      <td>3056</td>\n",
       "      <td>147115</td>\n",
       "      <td>119132977</td>\n",
       "      <td>6.27527</td>\n",
       "      <td>-1.80276</td>\n",
       "      <td>-2.081760</td>\n",
       "      <td>-5.638740</td>\n",
       "      <td>2.75385</td>\n",
       "      <td>...</td>\n",
       "      <td>-93.063400</td>\n",
       "      <td>17.11980</td>\n",
       "      <td>-2.394550</td>\n",
       "      <td>1.154500</td>\n",
       "      <td>1</td>\n",
       "      <td>15.10720</td>\n",
       "      <td>8.289502</td>\n",
       "      <td>False</td>\n",
       "      <td>False</td>\n",
       "      <td>False</td>\n",
       "    </tr>\n",
       "    <tr>\n",
       "      <th>4</th>\n",
       "      <td>4</td>\n",
       "      <td>4</td>\n",
       "      <td>25746</td>\n",
       "      <td>149181</td>\n",
       "      <td>1505067867</td>\n",
       "      <td>33.00930</td>\n",
       "      <td>19.27900</td>\n",
       "      <td>-6.749190</td>\n",
       "      <td>-25.930300</td>\n",
       "      <td>20.42620</td>\n",
       "      <td>...</td>\n",
       "      <td>52.557700</td>\n",
       "      <td>18.19870</td>\n",
       "      <td>1.782420</td>\n",
       "      <td>2.831050</td>\n",
       "      <td>-1</td>\n",
       "      <td>84.50320</td>\n",
       "      <td>92.529401</td>\n",
       "      <td>True</td>\n",
       "      <td>True</td>\n",
       "      <td>True</td>\n",
       "    </tr>\n",
       "  </tbody>\n",
       "</table>\n",
       "<p>5 rows × 26 columns</p>\n",
       "</div>"
      ],
      "text/plain": [
       "   Unnamed: 0  Unnamed: 0.1  Unnamed: 0.1.1     Run       Event        E1  \\\n",
       "0           0             0           74881  148029    71813147  20.47820   \n",
       "1           1             1           44373  149011   911248516   9.75222   \n",
       "2           2             2           97565  146511   403962773   2.70327   \n",
       "3           3             3            3056  147115   119132977   6.27527   \n",
       "4           4             4           25746  149181  1505067867  33.00930   \n",
       "\n",
       "       px1        py1        pz1       pt1  ...        pz2       pt2  \\\n",
       "0 -13.14120  5.940140 -14.538900  14.42140  ... -13.046700   8.11562   \n",
       "1   3.45327  1.552560   8.987230   3.78623  ...   8.201500   2.45081   \n",
       "2   2.65829 -0.439502   0.219013   2.69438  ...   0.447973  12.36220   \n",
       "3  -1.80276 -2.081760  -5.638740   2.75385  ... -93.063400  17.11980   \n",
       "4  19.27900 -6.749190 -25.930300  20.42620  ...  52.557700  18.19870   \n",
       "\n",
       "       eta2      phi2  Q2         M    M_noise   y_50   y_25   y_10  \n",
       "0 -1.253010  0.012442   1  21.49430  21.405405  False  False  False  \n",
       "1  1.922660  2.407360   1   5.19656  -1.101298  False  False  False  \n",
       "2  0.036229  2.555470   1  11.28940   3.615598  False  False  False  \n",
       "3 -2.394550  1.154500   1  15.10720   8.289502  False  False  False  \n",
       "4  1.782420  2.831050  -1  84.50320  92.529401   True   True   True  \n",
       "\n",
       "[5 rows x 26 columns]"
      ]
     },
     "execution_count": 5,
     "metadata": {},
     "output_type": "execute_result"
    }
   ],
   "source": [
    "df.head()"
   ]
  },
  {
   "cell_type": "code",
   "execution_count": 6,
   "id": "governmental-oriental",
   "metadata": {},
   "outputs": [],
   "source": [
    "X=df.drop(columns=['y_50','y_25', 'y_10'])\n",
    "y=df.y_50"
   ]
  },
  {
   "cell_type": "code",
   "execution_count": 7,
   "id": "joined-yeast",
   "metadata": {},
   "outputs": [
    {
     "data": {
      "text/plain": [
       "<generator object _RepeatedSplits.split at 0x0000018A3AC76040>"
      ]
     },
     "execution_count": 7,
     "metadata": {},
     "output_type": "execute_result"
    }
   ],
   "source": [
    "rskf.split(X,y)"
   ]
  },
  {
   "cell_type": "code",
   "execution_count": 8,
   "id": "ready-dietary",
   "metadata": {},
   "outputs": [
    {
     "ename": "SyntaxError",
     "evalue": "invalid syntax (<ipython-input-8-443602e1eab1>, line 4)",
     "output_type": "error",
     "traceback": [
      "\u001b[1;36m  File \u001b[1;32m\"<ipython-input-8-443602e1eab1>\"\u001b[1;36m, line \u001b[1;32m4\u001b[0m\n\u001b[1;33m    i++\u001b[0m\n\u001b[1;37m       ^\u001b[0m\n\u001b[1;31mSyntaxError\u001b[0m\u001b[1;31m:\u001b[0m invalid syntax\n"
     ]
    }
   ],
   "source": [
    "i=0\n",
    "for train_index, test_index in rskf.split(X, y):\n",
    "    print(\"TRAIN:\", train_index, \"TEST:\", test_index)\n",
    "    i++"
   ]
  },
  {
   "cell_type": "code",
   "execution_count": 9,
   "id": "dying-andrew",
   "metadata": {},
   "outputs": [],
   "source": [
    "i=0\n",
    "for train_index, test_index in rskf.split(X, y):\n",
    "    train_index_df=pd.DataFrame(train_index)\n",
    "    test_index_df=pd.DataFrame(test_index)\n",
    "    train_index_df.to_csv('train_index_{}.csv'.format(i))\n",
    "    test_index_df.to_csv('test_index_{}.csv'.format(i))\n",
    "    i+=1"
   ]
  }
 ],
 "metadata": {
  "kernelspec": {
   "display_name": "Python 3",
   "language": "python",
   "name": "python3"
  },
  "language_info": {
   "codemirror_mode": {
    "name": "ipython",
    "version": 3
   },
   "file_extension": ".py",
   "mimetype": "text/x-python",
   "name": "python",
   "nbconvert_exporter": "python",
   "pygments_lexer": "ipython3",
   "version": "3.8.8"
  }
 },
 "nbformat": 4,
 "nbformat_minor": 5
}
