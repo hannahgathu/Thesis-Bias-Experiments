{
  "nbformat": 4,
  "nbformat_minor": 0,
  "metadata": {
    "colab": {
      "name": "First visualisations of bias.ipynb",
      "provenance": [],
      "authorship_tag": "ABX9TyOdmw90bl6Espj2393UIO4M",
      "include_colab_link": true
    },
    "kernelspec": {
      "name": "python3",
      "display_name": "Python 3"
    },
    "language_info": {
      "name": "python"
    }
  },
  "cells": [
    {
      "cell_type": "markdown",
      "metadata": {
        "id": "view-in-github",
        "colab_type": "text"
      },
      "source": [
        "<a href=\"https://colab.research.google.com/github/hannahgathu/Thesis-Data-Visualisations/blob/main/First_visualisations_of_bias.ipynb\" target=\"_parent\"><img src=\"https://colab.research.google.com/assets/colab-badge.svg\" alt=\"Open In Colab\"/></a>"
      ]
    },
    {
      "cell_type": "markdown",
      "metadata": {
        "id": "PO0C059wqxWE"
      },
      "source": [
        "Emiel gave an indication of which features probably cause the most bias. In this notebook, I made some first plots to see whether this is indeed the case."
      ]
    },
    {
      "cell_type": "markdown",
      "metadata": {
        "id": "LaV9G44sq2j_"
      },
      "source": [
        "# Data & Libraries"
      ]
    },
    {
      "cell_type": "markdown",
      "metadata": {
        "id": "eX4OpW8Zq_Ug"
      },
      "source": [
        "#### Libraries"
      ]
    },
    {
      "cell_type": "code",
      "metadata": {
        "id": "LWbH9bdfrFFL"
      },
      "source": [
        "import pandas as pd\n",
        "import numpy as np\n",
        "import matplotlib.pyplot as plt\n",
        "import seaborn as sns"
      ],
      "execution_count": null,
      "outputs": []
    },
    {
      "cell_type": "markdown",
      "metadata": {
        "id": "iupAGWKArIpT"
      },
      "source": [
        "#### Load Data"
      ]
    },
    {
      "cell_type": "code",
      "metadata": {
        "id": "yQeeHl6VrQGs"
      },
      "source": [
        ""
      ],
      "execution_count": null,
      "outputs": []
    }
  ]
}