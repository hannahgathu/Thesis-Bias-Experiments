{
 "cells": [
  {
   "cell_type": "code",
   "execution_count": 15,
   "id": "affected-wisdom",
   "metadata": {},
   "outputs": [],
   "source": [
    "import pandas as pd\n",
    "import numpy as np"
   ]
  },
  {
   "cell_type": "code",
   "execution_count": 16,
   "id": "equipped-vermont",
   "metadata": {},
   "outputs": [],
   "source": [
    "num=1"
   ]
  },
  {
   "cell_type": "code",
   "execution_count": 17,
   "id": "threatened-basin",
   "metadata": {
    "tags": []
   },
   "outputs": [],
   "source": [
    "def read_file(url):\n",
    "\n",
    "    url = url + \"?raw=true\"\n",
    "    df = pd.read_csv(url, encoding='cp1252', sep=',', low_memory=False)\n",
    "    return df"
   ]
  },
  {
   "cell_type": "code",
   "execution_count": 18,
   "id": "funded-memorabilia",
   "metadata": {},
   "outputs": [],
   "source": [
    "df_train=read_file(\"https://github.com/hannahgathu/Thesis-Data-Visualisations/blob/main/Experiments/data/reduced_12000/CI10_bias1/train_CI10_bias1_{}.csv\".format(num))\n",
    "df_test=read_file(\"https://github.com/hannahgathu/Thesis-Data-Visualisations/blob/main/Experiments/data/reduced_12000/test_{}.csv\".format(num))"
   ]
  },
  {
   "cell_type": "code",
   "execution_count": 19,
   "id": "binding-people",
   "metadata": {},
   "outputs": [],
   "source": [
    "queried_instances=pd.read_csv('./density/queried_instances_{}.csv'.format(num))\n",
    "queried_instances_uncertainty=pd.read_csv('./uncertainty/queried_instances_{}.csv'.format(num))\n",
    "\n",
    "sample_init=df_train.loc[df_train['in_sample']==1]\n",
    "sample_init_pos=sample_init.loc[sample_init['y_10']==1]"
   ]
  },
  {
   "cell_type": "code",
   "execution_count": 20,
   "id": "similar-valentine",
   "metadata": {},
   "outputs": [
    {
     "name": "stdout",
     "output_type": "stream",
     "text": [
      "10   10\n",
      "      i  %_queried_d  %_queried_u  %_sample_d  %_sample_u\n",
      "0     0      0.00000     0.000000    0.182119    0.182119\n",
      "1    25      0.48000     0.480000    0.204893    0.204893\n",
      "2    50      0.60000     0.500000    0.241477    0.227273\n",
      "3   100      0.52000     0.520000    0.266169    0.266169\n",
      "4   250      0.50000     0.568000    0.326087    0.356884\n",
      "5   500      0.40800     0.538000    0.322943    0.403990\n",
      "6   750      0.37600     0.513333    0.320342    0.418251\n",
      "7  1000      0.34300     0.490000    0.305684    0.418587\n",
      "8  2500      0.24800     0.311600    0.240899    0.297645\n",
      "9  4000      0.19875     0.228250    0.197583    0.225012\n"
     ]
    }
   ],
   "source": [
    "iterations=[0, 25, 50, 100, 250, 500, 750, 1000, 2500, 4000]\n",
    "\n",
    "pos_queried_d=[]\n",
    "pos_queried_u=[]\n",
    "pos_sample_d=[]\n",
    "pos_sample_u=[]\n",
    "\n",
    "for i in iterations:\n",
    "    if i == 0:\n",
    "        pos_queried_d.append(0)\n",
    "        pos_queried_u.append(0)\n",
    "        pos_sample_d.append(sample_init_pos.shape[0]/sample_init.shape[0])\n",
    "        pos_sample_u.append(sample_init_pos.shape[0]/sample_init.shape[0])\n",
    "    else:\n",
    "        df_queried_d=df_train.iloc[list(queried_instances.iloc[:i,1])]\n",
    "        df_queried_d_pos=df_queried_d.loc[df_queried_d['y_10']==1].shape[0]\n",
    "        pos_queried_d.append(df_queried_d_pos/i)\n",
    "        pos_sample_d.append((df_queried_d_pos+sample_init_pos.shape[0])/(i+sample_init.shape[0]))\n",
    "        df_queried_u=df_train.iloc[list(queried_instances_uncertainty.iloc[:i,1])]\n",
    "        df_queried_u_pos=df_queried_u.loc[df_queried_u['y_10']==1].shape[0]\n",
    "        pos_queried_u.append(df_queried_u_pos/i)\n",
    "        pos_sample_u.append((df_queried_u_pos+sample_init_pos.shape[0])/(i+sample_init.shape[0]))\n",
    "\n",
    "print (len(iterations), ' ', len(pos_queried_d))\n",
    "        \n",
    "# assign data of lists.  \n",
    "data = {'i': iterations\n",
    "        , '%_queried_d': pos_queried_d\n",
    "        , '%_queried_u': pos_queried_u\n",
    "        , '%_sample_d': pos_sample_d\n",
    "        , '%_sample_u': pos_sample_u}  \n",
    "  \n",
    "# Create DataFrame  \n",
    "CI_table = pd.DataFrame(data)  \n",
    "  \n",
    "# Print the output.  \n",
    "print(CI_table)   "
   ]
  }
 ],
 "metadata": {
  "kernelspec": {
   "display_name": "Python 3",
   "language": "python",
   "name": "python3"
  },
  "language_info": {
   "codemirror_mode": {
    "name": "ipython",
    "version": 3
   },
   "file_extension": ".py",
   "mimetype": "text/x-python",
   "name": "python",
   "nbconvert_exporter": "python",
   "pygments_lexer": "ipython3",
   "version": "3.8.8"
  }
 },
 "nbformat": 4,
 "nbformat_minor": 5
}
